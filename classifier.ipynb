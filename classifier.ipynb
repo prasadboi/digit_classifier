{
 "cells": [
  {
   "cell_type": "markdown",
   "metadata": {
    "colab_type": "text",
    "id": "lnx5Kk43kd_6"
   },
   "source": [
    "#Assignment 1 :- Building a NN with custom dataset (Keras)\n",
    "---\n",
    "\n",
    "##**Introduction**\n",
    "While working on diverse array of projects, one of the most useful skill would be handling data of various formats and arrangements. Usually, in Keras the datasets like `MNIST` and `CIFAR-10` can be loaded using functions like:\n",
    "\n",
    "\n",
    "\n",
    "```\n",
    " tf.keras.datasets.mnist.load_data(path=\"mnist.npz\")\n",
    "```\n",
    "\n",
    "However, many intricate processes take place under the hood which needs to be understood and utilized in the case of handling custom datasets.\n",
    "\n",
    "\n",
    "## **Objective**\n",
    "\n",
    "Your objective in this assignment is to use all the knowledge and experience you have had in using Keras to :-\n",
    "\n",
    "\n",
    "1.   Load `MNIST` dataset using custom functions\n",
    "2.   Apply suitable transformations and data cleaning techniques.\n",
    "3.   Flatten the images or extract a feature vector(optional).\n",
    "4.   Build a multi-layered fully connected network (FCN) and use it to perform a classification task on test dataset. \n",
    "\n",
    "## **Provided Materials**\n",
    "\n",
    "*  `custom_MNIST` folder ([drive folder here](https://drive.google.com/drive/folders/1pLU_nCa1hjc_-p2GcEkK67TrlgJYmFjT?usp=sharing))\n",
    "  *  `data_desc.csv` :- Contains test and train split of data along with its labels.\n",
    "  * 50000 train and 12000 test data points stored in .npy format.\n",
    "\n",
    "---\n"
   ]
  },
  {
   "cell_type": "markdown",
   "metadata": {
    "colab_type": "text",
    "id": "VZ7T8ekFlKqE"
   },
   "source": [
    "###_Step 1_ : Import Libraries\n",
    "\n",
    "Import the necessary libraries you may require for the project, it was always easier to check what all can be useful by going through the documentation.\n",
    "\n",
    "*Note*: If colab notebook is being used, make sure you `Change Runtime Type` under `Runtime` to GPU and then start running all your code. \n"
   ]
  },
  {
   "cell_type": "code",
   "execution_count": 1,
   "metadata": {
    "colab": {},
    "colab_type": "code",
    "id": "cDH3bEJplq-W"
   },
   "outputs": [],
   "source": [
    "#import necessary libraries\n",
    "import numpy as np\n",
    "import pandas as pd\n",
    "import tensorflow as tf\n",
    "from tensorflow import keras\n",
    "from sklearn.preprocessing import label_binarize\n",
    "import os\n",
    "import matplotlib.pyplot as plt\n",
    "from sklearn.metrics import accuracy_score, precision_score, recall_score, f1_score\n",
    "from sklearn.metrics import classification_report, confusion_matrix\n",
    "import seaborn\n",
    "\n",
    "\n",
    "###uncomment to mount drive####\n",
    "\n",
    "# from google.colab import drive\n",
    "# drive.mount('/content/gdrive/')\n"
   ]
  },
  {
   "cell_type": "markdown",
   "metadata": {
    "colab_type": "text",
    "id": "EKfrkPCkln6i"
   },
   "source": [
    "###_Step 2.a._ : Import data using custom functions\n",
    "\n",
    "We now import our data through the pipelines Keras provides. It would require suitable customizations depending on the problem at hand.\n",
    "\n",
    "Necessary transforms may also be created here.\n",
    "\n",
    "*Note*: Make sure you are in the correct directory before starting this step\n"
   ]
  },
  {
   "cell_type": "code",
   "execution_count": 2,
   "metadata": {
    "colab": {},
    "colab_type": "code",
    "id": "kdZYL78Zl3ly"
   },
   "outputs": [],
   "source": [
    "def load_data():\n",
    "    data_desc = pd.read_csv(\"data_desc.csv\")\n",
    "    loc_train = data_desc.loc[data_desc[\"split\"] == \"train\"][\"file_name\"]\n",
    "    loc_test = data_desc.loc[data_desc[\"split\"] == \"val\"][\"file_name\"]\n",
    "    \n",
    "    X = []\n",
    "    y = []\n",
    "    folder = \"data/\"\n",
    "    \n",
    "    for i, img_name in enumerate(os.listdir(folder)):\n",
    "        \n",
    "        fileName = folder+img_name\n",
    "        img = np.load(fileName)\n",
    "            \n",
    "        X.append(img)\n",
    "        y.append(int(data_desc.loc[data_desc['file_name'] == img_name]['label']))\n",
    "        \n",
    "    return X, y"
   ]
  },
  {
   "cell_type": "code",
   "execution_count": 3,
   "metadata": {},
   "outputs": [],
   "source": [
    "X, y = load_data()"
   ]
  },
  {
   "cell_type": "code",
   "execution_count": 3,
   "metadata": {},
   "outputs": [],
   "source": [
    "data_desc = pd.read_csv(\"data_desc.csv\")"
   ]
  },
  {
   "cell_type": "code",
   "execution_count": null,
   "metadata": {},
   "outputs": [],
   "source": [
    "np.save(\"X_imageData\", X)\n",
    "np.save(\"y_imageData\", y)"
   ]
  },
  {
   "cell_type": "code",
   "execution_count": 4,
   "metadata": {},
   "outputs": [],
   "source": [
    "X = np.load(\"X_imageData.npy\")\n",
    "y = np.load(\"y_imageData.npy\")\n",
    "\n",
    "X_train = X[data_desc['split'] == 'train'].reshape(-1, 28, 28, 1)\n",
    "y_train = y[data_desc['split'] == 'train'].reshape(-1, 1)\n",
    "X_test  = X[data_desc[\"split\"] ==   'val'].reshape(-1, 28, 28, 1)\n",
    "y_test  = y[data_desc[\"split\"] ==   'val'].reshape(-1, 1)"
   ]
  },
  {
   "cell_type": "markdown",
   "metadata": {
    "colab_type": "text",
    "id": "1srNJ10Rl4QG"
   },
   "source": [
    "###_Step 2.b._: Data visualization\n",
    "\n",
    "It is good practice to see and visualize your data to make sure it is in the right format and condition before it is trained and tested upon. Although it is not mandatory, data visualization might play a vital role in giving insights and ideas on how one can move ahead with a particular dataset."
   ]
  },
  {
   "cell_type": "code",
   "execution_count": 5,
   "metadata": {
    "colab": {},
    "colab_type": "code",
    "id": "2zpj9GiYl7iC"
   },
   "outputs": [
    {
     "name": "stdout",
     "output_type": "stream",
     "text": [
      "(50000, 28, 28, 1)\n",
      "(50000, 1)\n",
      "(12000, 28, 28, 1)\n",
      "(12000, 1)\n"
     ]
    }
   ],
   "source": [
    "print(X_train.shape)\n",
    "print(y_train.shape)\n",
    "print(X_test.shape)\n",
    "print(y_test.shape)"
   ]
  },
  {
   "cell_type": "code",
   "execution_count": 6,
   "metadata": {},
   "outputs": [
    {
     "name": "stderr",
     "output_type": "stream",
     "text": [
      "C:\\Users\\Arjun Prasad\\anaconda3\\envs\\DeepLearning_Tensorflow\\lib\\site-packages\\matplotlib\\text.py:1165: FutureWarning: elementwise comparison failed; returning scalar instead, but in the future will perform elementwise comparison\n",
      "  if s != self._text:\n"
     ]
    },
    {
     "data": {
      "image/png": "[encoded data removed]",
      "text/plain": [
       "<Figure size 648x648 with 5 Axes>"
      ]
     },
     "metadata": {
      "needs_background": "light"
     },
     "output_type": "display_data"
    }
   ],
   "source": [
    "# printing images\n",
    "plt.figure(figsize=(9,9))\n",
    "for i in range(5):\n",
    "  plt.subplot(331 + i)\n",
    "  plt.imshow(X_train[i,:,:,0], cmap = plt.get_cmap('gray'))\n",
    "  plt.xlabel(y_train[i])\n",
    "plt.show()"
   ]
  },
  {
   "cell_type": "code",
   "execution_count": 7,
   "metadata": {},
   "outputs": [],
   "source": [
    "y_train = tf.keras.utils.to_categorical(y_train)\n",
    "y_test = tf.keras.utils.to_categorical(y_test)\n",
    "\n",
    "X_train = X_train/255\n",
    "X_test = X_test/255"
   ]
  },
  {
   "cell_type": "markdown",
   "metadata": {
    "colab_type": "text",
    "id": "2Zs-nqANl71R"
   },
   "source": [
    "###_Step 3_ : Define Model architecture\n",
    "\n",
    "After we make sure the data is in the format that we need, we can start builing a suitable model architecture. You may go with a simple FCN with multiple layers along with non-linear activations and possible dropout layers as you see fit.\n",
    "\n",
    "If you feel adventurous you may try and build a better network perhaps using CNNs etc. Feel free to experiment."
   ]
  },
  {
   "cell_type": "code",
   "execution_count": 8,
   "metadata": {
    "colab": {},
    "colab_type": "code",
    "id": "WOvMpbUfl_25"
   },
   "outputs": [],
   "source": [
    "def createModel():\n",
    "    model = tf.keras.Sequential()\n",
    "    \n",
    "    model.add(tf.keras.layers.Conv2D(filters = 32, kernel_size = (3,3), input_shape = (28, 28, 1), padding = 'valid', activation = 'relu'))\n",
    "    model.add(tf.keras.layers.BatchNormalization())\n",
    "    model.add(tf.keras.layers.Conv2D(filters = 32, kernel_size = (3,3), input_shape = (28, 28, 1), padding = 'valid', activation = 'relu'))\n",
    "    model.add(tf.keras.layers.BatchNormalization())\n",
    "    model.add(tf.keras.layers.MaxPool2D(pool_size = (2,2)))\n",
    "    \n",
    "    model.add(tf.keras.layers.Conv2D(filters =64, kernel_size = (3,3), input_shape = (12, 12, 32), padding = 'same', activation = 'relu'))\n",
    "    model.add(tf.keras.layers.BatchNormalization())\n",
    "    model.add(tf.keras.layers.Conv2D(filters =64, kernel_size = (3,3), input_shape = (12, 12, 32), padding = 'same', activation = 'relu'))\n",
    "    model.add(tf.keras.layers.BatchNormalization())\n",
    "    model.add(tf.keras.layers.MaxPool2D(pool_size = (2,2)))\n",
    "    \n",
    "    model.add(tf.keras.layers.Flatten())\n",
    "    model.add(tf.keras.layers.Dense(32, activation='relu', activity_regularizer = tf.keras.regularizers.l2(0.01)))\n",
    "    model.add(tf.keras.layers.Dense(10, activation = 'softmax',  activity_regularizer = tf.keras.regularizers.l2(0.01)))\n",
    "    \n",
    "    model.summary()\n",
    "\n",
    "    return model"
   ]
  },
  {
   "cell_type": "markdown",
   "metadata": {
    "colab_type": "text",
    "id": "vx89H9-6mAEK"
   },
   "source": [
    "###Step 4: Training and Validation Loop\n",
    "\n",
    "Before starting the training it is important to decide upon the performance metrics used to show how well your model works.\n",
    "\n",
    "Based on the Training strategy and performance metrics decided by you, different types of loops can be made.\n",
    "\n",
    "Feel free to use the [documentation](https://keras.io/getting_started/intro_to_keras_for_engineers/) of Keras as you see fit."
   ]
  },
  {
   "cell_type": "code",
   "execution_count": 9,
   "metadata": {},
   "outputs": [],
   "source": [
    "def trainModel(model):\n",
    "    model.compile(loss = 'categorical_crossentropy', optimizer = 'adam', metrics = ['accuracy'])\n",
    "    keras_history = model.fit(X_train, y_train, epochs = 10, validation_split = 0.2)\n",
    "    return keras_history"
   ]
  },
  {
   "cell_type": "code",
   "execution_count": 10,
   "metadata": {},
   "outputs": [],
   "source": [
    "def getModelPredictions(model, X_test):\n",
    "    predictions = np.argmax(model.predict(X_test), axis = 1)\n",
    "    return predictions\n"
   ]
  },
  {
   "cell_type": "code",
   "execution_count": 11,
   "metadata": {},
   "outputs": [
    {
     "name": "stdout",
     "output_type": "stream",
     "text": [
      "Model: \"sequential\"\n",
      "_________________________________________________________________\n",
      "Layer (type)                 Output Shape              Param #   \n",
      "=================================================================\n",
      "conv2d (Conv2D)              (None, 26, 26, 32)        320       \n",
      "_________________________________________________________________\n",
      "batch_normalization (BatchNo (None, 26, 26, 32)        128       \n",
      "_________________________________________________________________\n",
      "conv2d_1 (Conv2D)            (None, 24, 24, 32)        9248      \n",
      "_________________________________________________________________\n",
      "batch_normalization_1 (Batch (None, 24, 24, 32)        128       \n",
      "_________________________________________________________________\n",
      "max_pooling2d (MaxPooling2D) (None, 12, 12, 32)        0         \n",
      "_________________________________________________________________\n",
      "conv2d_2 (Conv2D)            (None, 12, 12, 64)        18496     \n",
      "_________________________________________________________________\n",
      "batch_normalization_2 (Batch (None, 12, 12, 64)        256       \n",
      "_________________________________________________________________\n",
      "conv2d_3 (Conv2D)            (None, 12, 12, 64)        36928     \n",
      "_________________________________________________________________\n",
      "batch_normalization_3 (Batch (None, 12, 12, 64)        256       \n",
      "_________________________________________________________________\n",
      "max_pooling2d_1 (MaxPooling2 (None, 6, 6, 64)          0         \n",
      "_________________________________________________________________\n",
      "flatten (Flatten)            (None, 2304)              0         \n",
      "_________________________________________________________________\n",
      "dense (Dense)                (None, 32)                73760     \n",
      "_________________________________________________________________\n",
      "dense_1 (Dense)              (None, 10)                330       \n",
      "=================================================================\n",
      "Total params: 139,850\n",
      "Trainable params: 139,466\n",
      "Non-trainable params: 384\n",
      "_________________________________________________________________\n",
      "Train on 40000 samples, validate on 10000 samples\n",
      "Epoch 1/10\n",
      "40000/40000 [==============================] - 164s 4ms/sample - loss: 1.0700 - accuracy: 0.7452 - val_loss: 0.5771 - val_accuracy: 0.9165\n",
      "Epoch 2/10\n",
      "40000/40000 [==============================] - 164s 4ms/sample - loss: 0.4111 - accuracy: 0.9528 - val_loss: 0.3422 - val_accuracy: 0.9581\n",
      "Epoch 3/10\n",
      "40000/40000 [==============================] - 164s 4ms/sample - loss: 0.2816 - accuracy: 0.9682 - val_loss: 0.2642 - val_accuracy: 0.9622\n",
      "Epoch 4/10\n",
      "40000/40000 [==============================] - 178s 4ms/sample - loss: 0.2106 - accuracy: 0.9783 - val_loss: 0.2206 - val_accuracy: 0.9700\n",
      "Epoch 5/10\n",
      "40000/40000 [==============================] - 187s 5ms/sample - loss: 0.1618 - accuracy: 0.9850 - val_loss: 0.1790 - val_accuracy: 0.9748\n",
      "Epoch 6/10\n",
      "40000/40000 [==============================] - 184s 5ms/sample - loss: 0.1309 - accuracy: 0.9893 - val_loss: 0.1634 - val_accuracy: 0.9752\n",
      "Epoch 7/10\n",
      "40000/40000 [==============================] - 172s 4ms/sample - loss: 0.1071 - accuracy: 0.9922 - val_loss: 0.1765 - val_accuracy: 0.9647\n",
      "Epoch 8/10\n",
      "40000/40000 [==============================] - 170s 4ms/sample - loss: 0.0880 - accuracy: 0.9947 - val_loss: 0.1407 - val_accuracy: 0.9745\n",
      "Epoch 9/10\n",
      "40000/40000 [==============================] - 182s 5ms/sample - loss: 0.0737 - accuracy: 0.9970 - val_loss: 0.1288 - val_accuracy: 0.9769\n",
      "Epoch 10/10\n",
      "40000/40000 [==============================] - 184s 5ms/sample - loss: 0.0623 - accuracy: 0.9980 - val_loss: 0.1380 - val_accuracy: 0.9707\n"
     ]
    }
   ],
   "source": [
    "tf.keras.backend.clear_session()\n",
    "model = createModel()\n",
    "keras_history = trainModel(model)\n",
    "y_pred = getModelPredictions(model, X_test)"
   ]
  },
  {
   "cell_type": "markdown",
   "metadata": {
    "colab_type": "text",
    "id": "-CKx3rN5mRBv"
   },
   "source": [
    "###Step 5: Results\n",
    "\n",
    "Here it would be preferable to build confusion matrix and AUC curves while calculating other classification metrics such as `Accuracy`, `F1 Score`, `Sensitivity` and `Specificity` on the valdation dataset.\n",
    "\n",
    "Feel free to present data to the best of your capabilites!"
   ]
  },
  {
   "cell_type": "code",
   "execution_count": 12,
   "metadata": {
    "colab": {},
    "colab_type": "code",
    "id": "4hZEp_J2mVCb"
   },
   "outputs": [
    {
     "data": {
      "text/plain": [
       "<matplotlib.legend.Legend at 0x192b4e03c50>"
      ]
     },
     "execution_count": 12,
     "metadata": {},
     "output_type": "execute_result"
    },
    {
     "data": {
      "image/png": "[encoded data removed]",
      "text/plain": [
       "<Figure size 432x288 with 1 Axes>"
      ]
     },
     "metadata": {
      "needs_background": "light"
     },
     "output_type": "display_data"
    }
   ],
   "source": [
    "plt.plot(keras_history.history['loss'], label='Training loss')\n",
    "plt.plot(keras_history.history['val_loss'], color='red', label='cv loss')\n",
    "plt.legend()"
   ]
  },
  {
   "cell_type": "code",
   "execution_count": 13,
   "metadata": {},
   "outputs": [
    {
     "data": {
      "text/plain": [
       "<matplotlib.legend.Legend at 0x192b4e883c8>"
      ]
     },
     "execution_count": 13,
     "metadata": {},
     "output_type": "execute_result"
    },
    {
     "data": {
      "image/png": "[encoded data removed]",
      "text/plain": [
       "<Figure size 432x288 with 1 Axes>"
      ]
     },
     "metadata": {
      "needs_background": "light"
     },
     "output_type": "display_data"
    }
   ],
   "source": [
    "plt.plot(keras_history.history['accuracy'], label='Training accuracy')\n",
    "plt.plot(keras_history.history['val_accuracy'], color='red', label='cv accuracy')\n",
    "plt.legend()"
   ]
  },
  {
   "cell_type": "code",
   "execution_count": 15,
   "metadata": {},
   "outputs": [
    {
     "name": "stdout",
     "output_type": "stream",
     "text": [
      "Classification report for classifier <tensorflow.python.keras.engine.sequential.Sequential object at 0x00000192C4E08198>:\n",
      "              precision    recall  f1-score   support\n",
      "\n",
      "           0       0.98      0.98      0.98      1141\n",
      "           1       0.99      1.00      0.99      1325\n",
      "           2       0.99      0.96      0.98      1220\n",
      "           3       0.99      0.97      0.98      1239\n",
      "           4       0.97      0.98      0.97      1155\n",
      "           5       0.99      0.92      0.95      1093\n",
      "           6       0.98      0.98      0.98      1216\n",
      "           7       0.97      0.98      0.98      1216\n",
      "           8       0.91      0.99      0.95      1238\n",
      "           9       0.97      0.95      0.96      1157\n",
      "\n",
      "    accuracy                           0.97     12000\n",
      "   macro avg       0.97      0.97      0.97     12000\n",
      "weighted avg       0.97      0.97      0.97     12000\n",
      "\n",
      "\n"
     ]
    }
   ],
   "source": [
    "print(\"Classification report for classifier %s:\\n%s\\n\"\n",
    "      % (model, classification_report(np.argmax(y_test, axis = 1), y_pred)))"
   ]
  },
  {
   "cell_type": "code",
   "execution_count": 21,
   "metadata": {},
   "outputs": [
    {
     "data": {
      "image/png": "[encoded data removed]",
      "text/plain": [
       "<Figure size 720x504 with 2 Axes>"
      ]
     },
     "metadata": {
      "needs_background": "light"
     },
     "output_type": "display_data"
    }
   ],
   "source": [
    "confusion_mc = confusion_matrix(np.argmax(y_test, axis=1), y_pred)\n",
    "df_cm = pd.DataFrame(confusion_mc, index = [i for i in range(0,10)],\n",
    "                  columns = [i for i in range(0,10)])\n",
    "\n",
    "plt.figure(figsize = (10,7))\n",
    "seaborn.heatmap(df_cm, annot=True)\n",
    "plt.title('Convolutional NN \\nAccuracy:{0:.3f}'.format(accuracy_score(y_test.argmax(axis = 1), y_pred)))\n",
    "plt.ylabel('True label')\n",
    "plt.xlabel('Predicted label');"
   ]
  },
  {
   "cell_type": "code",
   "execution_count": null,
   "metadata": {},
   "outputs": [],
   "source": []
  }
 ],
 "metadata": {
  "colab": {
   "name": "Assignment1-Keras",
   "provenance": []
  },
  "kernelspec": {
   "display_name": "Python 3",
   "language": "python",
   "name": "python3"
  },
  "language_info": {
   "codemirror_mode": {
    "name": "ipython",
    "version": 3
   },
   "file_extension": ".py",
   "mimetype": "text/x-python",
   "name": "python",
   "nbconvert_exporter": "python",
   "pygments_lexer": "ipython3",
   "version": "3.6.10"
  }
 },
 "nbformat": 4,
 "nbformat_minor": 1
}
